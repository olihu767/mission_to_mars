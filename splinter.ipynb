{
 "cells": [
  {
   "cell_type": "code",
   "execution_count": 15,
   "metadata": {},
   "outputs": [],
   "source": [
    "#Import Splinter and Beautifulsoup\n",
    "from splinter import Browser\n",
    "from bs4 import BeautifulSoup\n"
   ]
  },
  {
   "cell_type": "code",
   "execution_count": 16,
   "metadata": {},
   "outputs": [],
   "source": [
    "# Path to chromedriver\n",
    "browser = Browser('chrome',headless=False)"
   ]
  },
  {
   "cell_type": "code",
   "execution_count": 8,
   "metadata": {},
   "outputs": [],
   "source": [
    "# visit the Quote to Scrape site\n",
    "url = 'http://quotes.toscrape.com/'\n",
    "browser.visit(url)"
   ]
  },
  {
   "cell_type": "code",
   "execution_count": 9,
   "metadata": {},
   "outputs": [],
   "source": [
    "# Parse the HTML\n",
    "html = browser.html\n",
    "soup = BeautifulSoup(html,'html.parser')"
   ]
  },
  {
   "cell_type": "code",
   "execution_count": 10,
   "metadata": {},
   "outputs": [
    {
     "output_type": "execute_result",
     "data": {
      "text/plain": "'Top Ten tags'"
     },
     "metadata": {},
     "execution_count": 10
    }
   ],
   "source": [
    "# Scrape the Title\n",
    "title = soup. find('h2').text\n",
    "title"
   ]
  },
  {
   "cell_type": "code",
   "execution_count": 11,
   "metadata": {},
   "outputs": [
    {
     "output_type": "stream",
     "name": "stdout",
     "text": "love\ninspirational\nlife\nhumor\nbooks\nreading\nfriendship\nfriends\ntruth\nsimile\n"
    }
   ],
   "source": [
    "# Scrape the top ten tags\n",
    "tag_box = soup.find('div', class_='tags-box')\n",
    "#tag_box( what does 'a' mean)\n",
    "tags = tag_box.find_all('a',class_='tag')\n",
    "\n",
    "for tag in tags:\n",
    "    word = tag.text\n",
    "    print(word)"
   ]
  },
  {
   "cell_type": "code",
   "execution_count": 14,
   "metadata": {},
   "outputs": [
    {
     "output_type": "stream",
     "name": "stdout",
     "text": "page: 1 --------\n“The world as we have created it is a process of our thinking. It cannot be changed without changing our thinking.”\npage: 1 --------\n“It is our choices, Harry, that show what we truly are, far more than our abilities.”\npage: 1 --------\n“There are only two ways to live your life. One is as though nothing is a miracle. The other is as though everything is a miracle.”\npage: 1 --------\n“The person, be it gentleman or lady, who has not pleasure in a good novel, must be intolerably stupid.”\npage: 1 --------\n“Imperfection is beauty, madness is genius and it's better to be absolutely ridiculous than absolutely boring.”\npage: 1 --------\n“Try not to become a man of success. Rather become a man of value.”\npage: 1 --------\n“It is better to be hated for what you are than to be loved for what you are not.”\npage: 1 --------\n“I have not failed. I've just found 10,000 ways that won't work.”\npage: 1 --------\n“A woman is like a tea bag; you never know how strong it is until it's in hot water.”\npage: 1 --------\n“A day without sunshine is like, you know, night.”\npage: 2 --------\n“This life is what you make it. No matter what, you're going to mess up sometimes, it's a universal truth. But the good part is you get to decide how you're going to mess it up. Girls will be your friends - they'll act like it anyway. But just remember, some come, some go. The ones that stay with you through everything - they're your true best friends. Don't let go of them. Also remember, sisters make the best friends in the world. As for lovers, well, they'll come and go too. And baby, I hate to say it, most of them - actually pretty much all of them are going to break your heart, but you can't give up because if you give up, you'll never find your soulmate. You'll never find that half who makes you whole and that goes for everything. Just because you fail once, doesn't mean you're gonna fail at everything. Keep trying, hold on, and always, always, always believe in yourself, because if you don't, then who will, sweetie? So keep your head high, keep your chin up, and most importantly, keep smiling, because life's a beautiful thing and there's so much to smile about.”\npage: 2 --------\n“It takes a great deal of bravery to stand up to our enemies, but just as much to stand up to our friends.”\npage: 2 --------\n“If you can't explain it to a six year old, you don't understand it yourself.”\npage: 2 --------\n“You may not be her first, her last, or her only. She loved before she may love again. But if she loves you now, what else matters? She's not perfect—you aren't either, and the two of you may never be perfect together but if she can make you laugh, cause you to think twice, and admit to being human and making mistakes, hold onto her and give her the most you can. She may not be thinking about you every second of the day, but she will give you a part of her that she knows you can break—her heart. So don't hurt her, don't change her, don't analyze and don't expect more than she can give. Smile when she makes you happy, let her know when she makes you mad, and miss her when she's not there.”\npage: 2 --------\n“I like nonsense, it wakes up the brain cells. Fantasy is a necessary ingredient in living.”\npage: 2 --------\n“I may not have gone where I intended to go, but I think I have ended up where I needed to be.”\npage: 2 --------\n“The opposite of love is not hate, it's indifference. The opposite of art is not ugliness, it's indifference. The opposite of faith is not heresy, it's indifference. And the opposite of life is not death, it's indifference.”\npage: 2 --------\n“It is not a lack of love, but a lack of friendship that makes unhappy marriages.”\npage: 2 --------\n“Good friends, good books, and a sleepy conscience: this is the ideal life.”\npage: 2 --------\n“Life is what happens to us while we are making other plans.”\npage: 3 --------\n“This life is what you make it. No matter what, you're going to mess up sometimes, it's a universal truth. But the good part is you get to decide how you're going to mess it up. Girls will be your friends - they'll act like it anyway. But just remember, some come, some go. The ones that stay with you through everything - they're your true best friends. Don't let go of them. Also remember, sisters make the best friends in the world. As for lovers, well, they'll come and go too. And baby, I hate to say it, most of them - actually pretty much all of them are going to break your heart, but you can't give up because if you give up, you'll never find your soulmate. You'll never find that half who makes you whole and that goes for everything. Just because you fail once, doesn't mean you're gonna fail at everything. Keep trying, hold on, and always, always, always believe in yourself, because if you don't, then who will, sweetie? So keep your head high, keep your chin up, and most importantly, keep smiling, because life's a beautiful thing and there's so much to smile about.”\npage: 3 --------\n“It takes a great deal of bravery to stand up to our enemies, but just as much to stand up to our friends.”\npage: 3 --------\n“If you can't explain it to a six year old, you don't understand it yourself.”\npage: 3 --------\n“You may not be her first, her last, or her only. She loved before she may love again. But if she loves you now, what else matters? She's not perfect—you aren't either, and the two of you may never be perfect together but if she can make you laugh, cause you to think twice, and admit to being human and making mistakes, hold onto her and give her the most you can. She may not be thinking about you every second of the day, but she will give you a part of her that she knows you can break—her heart. So don't hurt her, don't change her, don't analyze and don't expect more than she can give. Smile when she makes you happy, let her know when she makes you mad, and miss her when she's not there.”\npage: 3 --------\n“I like nonsense, it wakes up the brain cells. Fantasy is a necessary ingredient in living.”\npage: 3 --------\n“I may not have gone where I intended to go, but I think I have ended up where I needed to be.”\npage: 3 --------\n“The opposite of love is not hate, it's indifference. The opposite of art is not ugliness, it's indifference. The opposite of faith is not heresy, it's indifference. And the opposite of life is not death, it's indifference.”\npage: 3 --------\n“It is not a lack of love, but a lack of friendship that makes unhappy marriages.”\npage: 3 --------\n“Good friends, good books, and a sleepy conscience: this is the ideal life.”\npage: 3 --------\n“Life is what happens to us while we are making other plans.”\npage: 4 --------\n“This life is what you make it. No matter what, you're going to mess up sometimes, it's a universal truth. But the good part is you get to decide how you're going to mess it up. Girls will be your friends - they'll act like it anyway. But just remember, some come, some go. The ones that stay with you through everything - they're your true best friends. Don't let go of them. Also remember, sisters make the best friends in the world. As for lovers, well, they'll come and go too. And baby, I hate to say it, most of them - actually pretty much all of them are going to break your heart, but you can't give up because if you give up, you'll never find your soulmate. You'll never find that half who makes you whole and that goes for everything. Just because you fail once, doesn't mean you're gonna fail at everything. Keep trying, hold on, and always, always, always believe in yourself, because if you don't, then who will, sweetie? So keep your head high, keep your chin up, and most importantly, keep smiling, because life's a beautiful thing and there's so much to smile about.”\npage: 4 --------\n“It takes a great deal of bravery to stand up to our enemies, but just as much to stand up to our friends.”\npage: 4 --------\n“If you can't explain it to a six year old, you don't understand it yourself.”\npage: 4 --------\n“You may not be her first, her last, or her only. She loved before she may love again. But if she loves you now, what else matters? She's not perfect—you aren't either, and the two of you may never be perfect together but if she can make you laugh, cause you to think twice, and admit to being human and making mistakes, hold onto her and give her the most you can. She may not be thinking about you every second of the day, but she will give you a part of her that she knows you can break—her heart. So don't hurt her, don't change her, don't analyze and don't expect more than she can give. Smile when she makes you happy, let her know when she makes you mad, and miss her when she's not there.”\npage: 4 --------\n“I like nonsense, it wakes up the brain cells. Fantasy is a necessary ingredient in living.”\npage: 4 --------\n“I may not have gone where I intended to go, but I think I have ended up where I needed to be.”\npage: 4 --------\n“The opposite of love is not hate, it's indifference. The opposite of art is not ugliness, it's indifference. The opposite of faith is not heresy, it's indifference. And the opposite of life is not death, it's indifference.”\npage: 4 --------\n“It is not a lack of love, but a lack of friendship that makes unhappy marriages.”\npage: 4 --------\n“Good friends, good books, and a sleepy conscience: this is the ideal life.”\npage: 4 --------\n“Life is what happens to us while we are making other plans.”\npage: 5 --------\n“This life is what you make it. No matter what, you're going to mess up sometimes, it's a universal truth. But the good part is you get to decide how you're going to mess it up. Girls will be your friends - they'll act like it anyway. But just remember, some come, some go. The ones that stay with you through everything - they're your true best friends. Don't let go of them. Also remember, sisters make the best friends in the world. As for lovers, well, they'll come and go too. And baby, I hate to say it, most of them - actually pretty much all of them are going to break your heart, but you can't give up because if you give up, you'll never find your soulmate. You'll never find that half who makes you whole and that goes for everything. Just because you fail once, doesn't mean you're gonna fail at everything. Keep trying, hold on, and always, always, always believe in yourself, because if you don't, then who will, sweetie? So keep your head high, keep your chin up, and most importantly, keep smiling, because life's a beautiful thing and there's so much to smile about.”\npage: 5 --------\n“It takes a great deal of bravery to stand up to our enemies, but just as much to stand up to our friends.”\npage: 5 --------\n“If you can't explain it to a six year old, you don't understand it yourself.”\npage: 5 --------\n“You may not be her first, her last, or her only. She loved before she may love again. But if she loves you now, what else matters? She's not perfect—you aren't either, and the two of you may never be perfect together but if she can make you laugh, cause you to think twice, and admit to being human and making mistakes, hold onto her and give her the most you can. She may not be thinking about you every second of the day, but she will give you a part of her that she knows you can break—her heart. So don't hurt her, don't change her, don't analyze and don't expect more than she can give. Smile when she makes you happy, let her know when she makes you mad, and miss her when she's not there.”\npage: 5 --------\n“I like nonsense, it wakes up the brain cells. Fantasy is a necessary ingredient in living.”\npage: 5 --------\n“I may not have gone where I intended to go, but I think I have ended up where I needed to be.”\npage: 5 --------\n“The opposite of love is not hate, it's indifference. The opposite of art is not ugliness, it's indifference. The opposite of faith is not heresy, it's indifference. And the opposite of life is not death, it's indifference.”\npage: 5 --------\n“It is not a lack of love, but a lack of friendship that makes unhappy marriages.”\npage: 5 --------\n“Good friends, good books, and a sleepy conscience: this is the ideal life.”\npage: 5 --------\n“Life is what happens to us while we are making other plans.”\n"
    }
   ],
   "source": [
    "#a for loop with five iterations(pages 1-6)\n",
    "for x in range(1,6):\n",
    "# Create an HTML object, assigned to the html variable\n",
    "    html = browser.html\n",
    "#Use Beautifulsoup to prase the html object\n",
    "    soup = BeautifulSoup (html,'html.parser')\n",
    "\n",
    "# Use BeautifulSoup to find all<span /> tags with a class\n",
    "    quotes = soup.find_all('span',class_='text')\n",
    "    for quote in quotes:\n",
    "        print('page:',x,'--------')\n",
    "        print(quote.text)\n",
    "\n",
    "#Use Splinter to click the 'Next' Button\n",
    "    browser.click_link_by_partial_text('Next')"
   ]
  },
  {
   "cell_type": "code",
   "execution_count": null,
   "metadata": {},
   "outputs": [],
   "source": []
  }
 ],
 "metadata": {
  "language_info": {
   "codemirror_mode": {
    "name": "ipython",
    "version": 3
   },
   "file_extension": ".py",
   "mimetype": "text/x-python",
   "name": "python",
   "nbconvert_exporter": "python",
   "pygments_lexer": "ipython3",
   "version": "3.7.4-final"
  },
  "orig_nbformat": 2,
  "kernelspec": {
   "name": "python3",
   "display_name": "Python 3"
  }
 },
 "nbformat": 4,
 "nbformat_minor": 2
}